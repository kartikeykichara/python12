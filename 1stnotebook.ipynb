{
 "cells": [
  {
   "cell_type": "code",
   "execution_count": 1,
   "id": "d0124b75-80a9-4b0d-9574-88d4747c4928",
   "metadata": {},
   "outputs": [
    {
     "name": "stdout",
     "output_type": "stream",
     "text": [
      "kartikey\n",
      "#student\n"
     ]
    }
   ],
   "source": [
    "print(\"kartikey\\n\",end=\"#\")\n",
    "print(\"student\")"
   ]
  },
  {
   "cell_type": "code",
   "execution_count": 4,
   "id": "67ad85a8-268a-4068-bf63-ecc341710aa4",
   "metadata": {},
   "outputs": [
    {
     "name": "stdout",
     "output_type": "stream",
     "text": [
      "my company is regex\n"
     ]
    }
   ],
   "source": [
    "company=\"regex\"\n",
    "print(f\"my company is {company}\")"
   ]
  },
  {
   "cell_type": "code",
   "execution_count": 5,
   "id": "1dffe44d-7547-46d1-ac99-549228ee009e",
   "metadata": {},
   "outputs": [
    {
     "name": "stdout",
     "output_type": "stream",
     "text": [
      "my age is 60 i belong to senior citizen\n"
     ]
    }
   ],
   "source": [
    "age=60\n",
    "category=\"senior\"\n",
    "print(f\"my age is {age} i belong to {category} citizen\")"
   ]
  },
  {
   "cell_type": "code",
   "execution_count": 6,
   "id": "17902a71-e812-453d-9158-e3acbbaeb6c2",
   "metadata": {},
   "outputs": [
    {
     "name": "stdout",
     "output_type": "stream",
     "text": [
      "hey my age is 60\n"
     ]
    }
   ],
   "source": [
    "print(\"hey my age is {}\".format(age))"
   ]
  },
  {
   "cell_type": "code",
   "execution_count": 7,
   "id": "c6a297a5-a605-4f79-9eb0-52798f09cf67",
   "metadata": {},
   "outputs": [
    {
     "name": "stdout",
     "output_type": "stream",
     "text": [
      "this i\n",
      "s gopalpura\n"
     ]
    }
   ],
   "source": [
    "address=\"\"\"this i\n",
    "s gopalpura\"\"\"\n",
    "print(address)"
   ]
  },
  {
   "cell_type": "code",
   "execution_count": 8,
   "id": "38045781-0b74-46e9-9cc6-dfbc1a80dbde",
   "metadata": {},
   "outputs": [],
   "source": [
    "#**\n",
    "#* / // %\n",
    "#+ -\n"
   ]
  },
  {
   "cell_type": "code",
   "execution_count": 10,
   "id": "9cb3c432-abec-493e-b118-e87ee2cc30e6",
   "metadata": {},
   "outputs": [],
   "source": [
    "#membership operator (iterable)\n",
    "#intergers are not iterable"
   ]
  },
  {
   "cell_type": "code",
   "execution_count": 11,
   "id": "f0be7cee-3996-4443-b0fd-299abd4b49d0",
   "metadata": {},
   "outputs": [
    {
     "data": {
      "text/plain": [
       "4"
      ]
     },
     "execution_count": 11,
     "metadata": {},
     "output_type": "execute_result"
    }
   ],
   "source": [
    "6&12"
   ]
  },
  {
   "cell_type": "code",
   "execution_count": 13,
   "id": "69bf4926-6c79-44dd-8246-e7c97ffa7080",
   "metadata": {},
   "outputs": [
    {
     "data": {
      "text/plain": [
       "14"
      ]
     },
     "execution_count": 13,
     "metadata": {},
     "output_type": "execute_result"
    }
   ],
   "source": [
    "6|12"
   ]
  },
  {
   "cell_type": "code",
   "execution_count": 14,
   "id": "4f98bfce-1753-4daf-bae5-822f9e878493",
   "metadata": {},
   "outputs": [
    {
     "data": {
      "text/plain": [
       "176"
      ]
     },
     "execution_count": 14,
     "metadata": {},
     "output_type": "execute_result"
    }
   ],
   "source": [
    "22<<3"
   ]
  },
  {
   "cell_type": "code",
   "execution_count": 16,
   "id": "441d3e1d-486d-47a4-8129-84da9f49b207",
   "metadata": {},
   "outputs": [
    {
     "name": "stdin",
     "output_type": "stream",
     "text": [
      "enter number 0\n"
     ]
    },
    {
     "name": "stdout",
     "output_type": "stream",
     "text": [
      "neutral\n"
     ]
    }
   ],
   "source": [
    "num=int(input(\"enter number\"))\n",
    "if num>0 or num<0:\n",
    "    print(\"integer\")\n",
    "else:\n",
    "    print(\"neutral\")"
   ]
  },
  {
   "cell_type": "code",
   "execution_count": 20,
   "id": "7afb2540-878c-46ab-b3f3-b71e5ab37c9d",
   "metadata": {},
   "outputs": [
    {
     "name": "stdin",
     "output_type": "stream",
     "text": [
      "enter number 0\n"
     ]
    },
    {
     "name": "stdout",
     "output_type": "stream",
     "text": [
      "neutral\n"
     ]
    }
   ],
   "source": [
    "num=int(input(\"enter number\"))\n",
    "if num>0:\n",
    "    print(\"postitive\")\n",
    "elif num<0:\n",
    "    print(\"negative\")\n",
    "else:\n",
    "    print(\"neutral\")"
   ]
  },
  {
   "cell_type": "code",
   "execution_count": 21,
   "id": "5d15cd5d-37a9-4856-b034-9ef2d49712c4",
   "metadata": {},
   "outputs": [
    {
     "name": "stdout",
     "output_type": "stream",
     "text": [
      "x is greater\n"
     ]
    }
   ],
   "source": [
    "x=56\n",
    "y=32\n",
    "if x>y:\n",
    "    print(\"x is greater\")\n",
    "else:\n",
    "    print(\"y is greater\")"
   ]
  },
  {
   "cell_type": "code",
   "execution_count": 22,
   "id": "086b8d75-251e-4943-b131-ef1f719ba484",
   "metadata": {},
   "outputs": [
    {
     "name": "stdout",
     "output_type": "stream",
     "text": [
      "z is greater\n"
     ]
    }
   ],
   "source": [
    "x=56\n",
    "y=32\n",
    "z=89\n",
    "if x>y and x>z:\n",
    "    print(\"x is greater\")\n",
    "elif y>x and y>z:\n",
    "    print(\"y is greater\")\n",
    "else:\n",
    "    print(\"z is greater\")"
   ]
  },
  {
   "cell_type": "code",
   "execution_count": 24,
   "id": "67deb006-a66f-4562-b86c-54dd5983dc47",
   "metadata": {},
   "outputs": [
    {
     "name": "stdout",
     "output_type": "stream",
     "text": [
      "odd\n"
     ]
    }
   ],
   "source": [
    "num=35\n",
    "if num%2==0:\n",
    "    print(\"even\")\n",
    "else:\n",
    "    print(\"odd\")"
   ]
  },
  {
   "cell_type": "code",
   "execution_count": 34,
   "id": "73b128e9-07aa-4f54-9e0c-7deff00828c3",
   "metadata": {},
   "outputs": [
    {
     "name": "stdin",
     "output_type": "stream",
     "text": [
      "enter number 46\n"
     ]
    },
    {
     "name": "stdout",
     "output_type": "stream",
     "text": [
      "citizen\n"
     ]
    }
   ],
   "source": [
    "age=int(input(\"enter number\"))\n",
    "if age>10 and age<18:\n",
    "    print(\"young\")\n",
    "elif age>=18 and age<=25:\n",
    "    print(\"adult\")\n",
    "elif age>=26 and age<60:\n",
    "    print(\"citizen\")\n",
    "elif age>=60:\n",
    "    print(\"senior citizen\")\n",
    "else:\n",
    "    print(\"child\")"
   ]
  },
  {
   "cell_type": "code",
   "execution_count": null,
   "id": "571cfcf3-c39d-4c5d-8638-fa5558ef0062",
   "metadata": {},
   "outputs": [],
   "source": []
  }
 ],
 "metadata": {
  "kernelspec": {
   "display_name": "Python 3 (ipykernel)",
   "language": "python",
   "name": "python3"
  },
  "language_info": {
   "codemirror_mode": {
    "name": "ipython",
    "version": 3
   },
   "file_extension": ".py",
   "mimetype": "text/x-python",
   "name": "python",
   "nbconvert_exporter": "python",
   "pygments_lexer": "ipython3",
   "version": "3.11.7"
  }
 },
 "nbformat": 4,
 "nbformat_minor": 5
}
